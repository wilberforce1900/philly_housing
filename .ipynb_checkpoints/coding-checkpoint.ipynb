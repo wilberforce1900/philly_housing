{
 "cells": [
  {
   "cell_type": "code",
   "execution_count": null,
   "id": "c50a4fd6-ea5b-4155-a22f-5170576c6081",
   "metadata": {},
   "outputs": [],
   "source": [
    "# this project is to visualization and using machine learning tools to analyze the housing market in Philly\n",
    "# created by Will Wang, ASU"
   ]
  }
 ],
 "metadata": {
  "kernelspec": {
   "display_name": "Python 3 (ipykernel)",
   "language": "python",
   "name": "python3"
  },
  "language_info": {
   "codemirror_mode": {
    "name": "ipython",
    "version": 3
   },
   "file_extension": ".py",
   "mimetype": "text/x-python",
   "name": "python",
   "nbconvert_exporter": "python",
   "pygments_lexer": "ipython3",
   "version": "3.7.13"
  }
 },
 "nbformat": 4,
 "nbformat_minor": 5
}
